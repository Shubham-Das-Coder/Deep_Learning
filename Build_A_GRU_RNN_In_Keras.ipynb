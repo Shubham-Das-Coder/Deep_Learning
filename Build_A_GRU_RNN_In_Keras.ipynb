{
 "cells": [
  {
   "cell_type": "code",
   "execution_count": 1,
   "id": "3b7301b8",
   "metadata": {},
   "outputs": [],
   "source": [
    "#Python imports\n",
    "import tensorflow as tf\n",
    "from tensorflow import keras\n",
    "from tensorflow.keras import layers"
   ]
  },
  {
   "cell_type": "code",
   "execution_count": 2,
   "id": "70c12085",
   "metadata": {},
   "outputs": [
    {
     "name": "stdout",
     "output_type": "stream",
     "text": [
      "Model: \"sequential\"\n",
      "_________________________________________________________________\n",
      " Layer (type)                Output Shape              Param #   \n",
      "=================================================================\n",
      " gru (GRU)                   (None, 64)                18048     \n",
      "                                                                 \n",
      " batch_normalization (BatchN  (None, 64)               256       \n",
      " ormalization)                                                   \n",
      "                                                                 \n",
      " dense (Dense)               (None, 10)                650       \n",
      "                                                                 \n",
      "=================================================================\n",
      "Total params: 18,954\n",
      "Trainable params: 18,826\n",
      "Non-trainable params: 128\n",
      "_________________________________________________________________\n",
      "None\n"
     ]
    }
   ],
   "source": [
    "#Creating GRU RNN Model in Keras\n",
    "model = keras.Sequential()\n",
    "model.add(layers.GRU(64, input_shape=(28, 28)))\n",
    "model.add(layers.BatchNormalization())\n",
    "model.add(layers.Dense(10))\n",
    "print(model.summary())"
   ]
  },
  {
   "cell_type": "code",
   "execution_count": 3,
   "id": "9368e35f",
   "metadata": {},
   "outputs": [],
   "source": [
    "#Get Dataset from Keras in Python\n",
    "mnist = keras.datasets.mnist\n",
    "(x_train, y_train), (x_test, y_test) = mnist.load_data()\n",
    "x_train, x_test = x_train/255.0, x_test/255.0\n",
    "x_validate, y_validate = x_test[:-10], y_test[:-10]\n",
    "x_test, y_test = x_test[-10:], y_test[-10:]"
   ]
  },
  {
   "cell_type": "code",
   "execution_count": 4,
   "id": "564a11f7",
   "metadata": {},
   "outputs": [],
   "source": [
    "#Compile GRU RNN in Keras\n",
    "model.compile(\n",
    "    loss=keras.losses.SparseCategoricalCrossentropy(from_logits=True),\n",
    "    optimizer=\"sgd\",\n",
    "    metrics=[\"accuracy\"],\n",
    ")"
   ]
  },
  {
   "cell_type": "code",
   "execution_count": 5,
   "id": "3efeb90d",
   "metadata": {},
   "outputs": [
    {
     "name": "stdout",
     "output_type": "stream",
     "text": [
      "Epoch 1/10\n",
      "938/938 [==============================] - 10s 9ms/step - loss: 1.4240 - accuracy: 0.5250 - val_loss: 1.0031 - val_accuracy: 0.6687\n",
      "Epoch 2/10\n",
      "938/938 [==============================] - 8s 9ms/step - loss: 0.7697 - accuracy: 0.7500 - val_loss: 0.6158 - val_accuracy: 0.7997\n",
      "Epoch 3/10\n",
      "938/938 [==============================] - 8s 8ms/step - loss: 0.4928 - accuracy: 0.8447 - val_loss: 0.4529 - val_accuracy: 0.8462\n",
      "Epoch 4/10\n",
      "938/938 [==============================] - 9s 10ms/step - loss: 0.3845 - accuracy: 0.8823 - val_loss: 0.3021 - val_accuracy: 0.9078\n",
      "Epoch 5/10\n",
      "938/938 [==============================] - 9s 9ms/step - loss: 0.3158 - accuracy: 0.9036 - val_loss: 0.4571 - val_accuracy: 0.8399\n",
      "Epoch 6/10\n",
      "938/938 [==============================] - 8s 9ms/step - loss: 0.2626 - accuracy: 0.9202 - val_loss: 0.2099 - val_accuracy: 0.9360\n",
      "Epoch 7/10\n",
      "938/938 [==============================] - 8s 8ms/step - loss: 0.2200 - accuracy: 0.9340 - val_loss: 0.8097 - val_accuracy: 0.7476\n",
      "Epoch 8/10\n",
      "938/938 [==============================] - 8s 9ms/step - loss: 0.1918 - accuracy: 0.9429 - val_loss: 0.2712 - val_accuracy: 0.9081\n",
      "Epoch 9/10\n",
      "938/938 [==============================] - 9s 9ms/step - loss: 0.1712 - accuracy: 0.9489 - val_loss: 0.1375 - val_accuracy: 0.9582\n",
      "Epoch 10/10\n",
      "938/938 [==============================] - 8s 9ms/step - loss: 0.1573 - accuracy: 0.9527 - val_loss: 0.2056 - val_accuracy: 0.9346\n"
     ]
    },
    {
     "data": {
      "text/plain": [
       "<keras.callbacks.History at 0x2080607aee0>"
      ]
     },
     "execution_count": 5,
     "metadata": {},
     "output_type": "execute_result"
    }
   ],
   "source": [
    "#Fit GRU RNN in Keras\n",
    "model.fit(\n",
    "    x_train, y_train, validation_data=(x_validate, y_validate), batch_size=64, epochs=10\n",
    ")"
   ]
  },
  {
   "cell_type": "code",
   "execution_count": 6,
   "id": "26dd6f17",
   "metadata": {},
   "outputs": [
    {
     "name": "stdout",
     "output_type": "stream",
     "text": [
      "[7] 7\n",
      "[8] 8\n",
      "[9] 9\n",
      "[0] 0\n",
      "[1] 1\n",
      "[2] 2\n",
      "[3] 3\n",
      "[4] 4\n",
      "[5] 5\n",
      "[6] 6\n"
     ]
    }
   ],
   "source": [
    "#Test the Keras GRU Model\n",
    "for i in range(10):\n",
    "    result = tf.argmax(model.predict(tf.expand_dims(x_test[i], 0)), axis=1)\n",
    "    print(result.numpy(), y_test[i])"
   ]
  }
 ],
 "metadata": {
  "kernelspec": {
   "display_name": "Python 3",
   "language": "python",
   "name": "python3"
  },
  "language_info": {
   "codemirror_mode": {
    "name": "ipython",
    "version": 3
   },
   "file_extension": ".py",
   "mimetype": "text/x-python",
   "name": "python",
   "nbconvert_exporter": "python",
   "pygments_lexer": "ipython3",
   "version": "3.8.8"
  }
 },
 "nbformat": 4,
 "nbformat_minor": 5
}
